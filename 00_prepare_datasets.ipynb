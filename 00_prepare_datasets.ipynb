{
 "cells": [
  {
   "cell_type": "markdown",
   "id": "d65936c5-d1b7-4994-9250-10d86f0c6744",
   "metadata": {},
   "source": [
    "<h1>Download datsets: CIFAR-10 and IMDb Datasets</h1>"
   ]
  },
  {
   "cell_type": "code",
   "execution_count": null,
   "id": "cbb1d8af-3a4c-4f1a-9790-2195e5b448fc",
   "metadata": {},
   "outputs": [],
   "source": [
    "import torchvision\n",
    "\n",
    "# Downloading trainset of CIFAR-10 dataset\n",
    "trainset = torchvision.datasets.CIFAR10(root='./data', train=True, download=True)\n",
    "# Downloading testset of CIFAR-10 dataset\n",
    "testset = torchvision.datasets.CIFAR10(root='./data', train=False, download=True)\n"
   ]
  },
  {
   "cell_type": "code",
   "execution_count": null,
   "id": "05d0e36c-6b94-4004-9e00-4d08de7a7809",
   "metadata": {},
   "outputs": [],
   "source": [
    "import os\n",
    "import re\n",
    "import pandas as pd\n",
    "import requests\n",
    "import tarfile\n",
    "import subprocess\n",
    "\n",
    "# Load all files from a directory in a DataFrame.\n",
    "def load_directory_data(directory):\n",
    "    data = {}\n",
    "    data[\"sentence\"] = []\n",
    "    data[\"sentiment\"] = []\n",
    "    for file_path in os.listdir(directory):\n",
    "        with open(os.path.join(directory, file_path), \"r\") as f:\n",
    "            data[\"sentence\"].append(f.read())\n",
    "            data[\"sentiment\"].append(re.match(\"\\d+_(\\d+)\\.txt\", file_path).group(1))\n",
    "\n",
    "    return pd.DataFrame.from_dict(data)\n",
    "\n",
    "# Merge positive and negative examples, add a polarity column and shuffle.\n",
    "def load_dataset(directory):\n",
    "    pos_df = load_directory_data(os.path.join(directory, \"pos\"))\n",
    "    neg_df = load_directory_data(os.path.join(directory, \"neg\"))\n",
    "    pos_df[\"polarity\"] = 1\n",
    "    neg_df[\"polarity\"] = 0\n",
    "    return pd.concat([pos_df, neg_df]).sample(frac=1).reset_index(drop=True)\n",
    "\n",
    "# Download and process the dataset files.\n",
    "def download_and_load_datasets(force_download=False):\n",
    "    \n",
    "    url = \"http://ai.stanford.edu/~amaas/data/sentiment/aclImdb_v1.tar.gz\"\n",
    "    fname = \"aclImdb.tar.gz\"\n",
    "\n",
    "    dataset = \"data/\"\n",
    "\n",
    "    # if downloaded:\n",
    "    if (os.path.exists(os.path.join(dataset, fname[:fname.find('.')], 'train_df.p')) and \n",
    "        os.path.exists(os.path.join(dataset, fname[:fname.find('.')], 'test_df.p')) ):\n",
    "\n",
    "        print(\"Dataset has already downloaded, loading catched dataset instead.\")\n",
    "        train_df = pd.read_pickle(os.path.join(dataset, fname[:fname.find('.')], 'train_df.p'))\n",
    "        test_df = pd.read_pickle(os.path.join(dataset, fname[:fname.find('.')], 'test_df.p'))\n",
    "\n",
    "    else:\n",
    "        print(\"Downloading...\")\n",
    "        response = requests.get(url, stream=True)\n",
    "        if response.status_code == 200:\n",
    "            with open(os.path.join(dataset, fname), 'wb') as f:\n",
    "                f.write(response.raw.read())\n",
    "        else:\n",
    "            raise Exception(\"Downloading error.\")\n",
    "        # untar\n",
    "        print(\"Extracting...\")\n",
    "        subprocess.call([\"tar\", \"xzf\", os.path.join(dataset, fname), \n",
    "                         \"-C\", dataset])\n",
    "        train_df = load_dataset(os.path.join(os.path.dirname(dataset),\n",
    "                                             \"aclImdb\", \"train\"))\n",
    "        test_df = load_dataset(os.path.join(os.path.dirname(dataset),\n",
    "                                            \"aclImdb\", \"test\"))\n",
    "        if os.path.exists(os.path.join(dataset, fname[:fname.find('.')], 'train_df.p')):\n",
    "            os.remove(os.path.join(dataset, fname[:fname.find('.')], 'train_df.p'))\n",
    "        if os.path.exists(os.path.join(dataset, fname[:fname.find('.')], 'test_df.p')):\n",
    "            os.remove(os.path.join(dataset, fname[:fname.find('.')], 'test_df.p'))\n",
    "        \n",
    "        train_df.to_pickle(\"data/aclImdb/train_df.p\")\n",
    "        test_df.to_pickle(\"data/aclImdb/test_df.p\")\n",
    "        print(\"Dataset is downloaded.\")\n",
    "    \n",
    "    return train_df, test_df\n",
    "\n",
    "train_df, test_df = download_and_load_datasets()"
   ]
  },
  {
   "cell_type": "code",
   "execution_count": null,
   "id": "09376c42-f30c-4fd9-b102-4cd272df2bb1",
   "metadata": {},
   "outputs": [],
   "source": []
  }
 ],
 "metadata": {
  "kernelspec": {
   "display_name": "hcc-ai-ml-workshop-2025",
   "language": "python",
   "name": "hcc-ai-ml-workshop-2025"
  },
  "language_info": {
   "codemirror_mode": {
    "name": "ipython",
    "version": 3
   },
   "file_extension": ".py",
   "mimetype": "text/x-python",
   "name": "python",
   "nbconvert_exporter": "python",
   "pygments_lexer": "ipython3",
   "version": "3.12.9"
  }
 },
 "nbformat": 4,
 "nbformat_minor": 5
}
